{
 "cells": [
  {
   "cell_type": "markdown",
   "metadata": {
    "collapsed": true
   },
   "source": [
    "<img src=\"http://files.oproject.org/img/HeaderOpenData.png\">\n",
    "<br>\n",
    "<img src=\"http://opendigitalscience.eu/wp-content/uploads/2015/09/github-logo.png\"  width=\"40%\" height=\"40%\">\n",
    "\n",
    "# Example #7: Sharing the Notebooks\n",
    "\n",
    "Github is a collaborative development platform that we will be using\n",
    "for this tutorial.<br>\n",
    "Please create a free account at\n",
    "https://github.com/join?source=header-home <br>\n",
    "\n",
    "## Create New Github Repository\n",
    "\n",
    "* In the upper right corner, next to your avatar, click  and then select New repository.\n",
    "* Name your repository example: hello-world.\n",
    "* Write a short description.\n",
    "* Select Initialize this repository with a README.\n",
    "\n",
    "<img src=\"https://guides.github.com/activities/hello-world/create-new-repo.png\"/>"
   ]
  },
  {
   "cell_type": "code",
   "execution_count": null,
   "metadata": {
    "collapsed": false
   },
   "outputs": [],
   "source": [
    "git clone https://github.com/sergeitest/hello-world.git"
   ]
  },
  {
   "cell_type": "markdown",
   "metadata": {},
   "source": [
    "## Move to the Local Repository"
   ]
  },
  {
   "cell_type": "code",
   "execution_count": null,
   "metadata": {
    "collapsed": false
   },
   "outputs": [],
   "source": [
    "cd hello-world"
   ]
  },
  {
   "cell_type": "markdown",
   "metadata": {},
   "source": [
    "## Copy Notebook to Local Repository"
   ]
  },
  {
   "cell_type": "code",
   "execution_count": null,
   "metadata": {
    "collapsed": false
   },
   "outputs": [],
   "source": [
    "cp /home/user1/opendata/First_Example_Dimuons.ipynb ."
   ]
  },
  {
   "cell_type": "markdown",
   "metadata": {},
   "source": [
    "## List Contents of Repository"
   ]
  },
  {
   "cell_type": "code",
   "execution_count": null,
   "metadata": {
    "collapsed": false
   },
   "outputs": [],
   "source": [
    "ls"
   ]
  },
  {
   "cell_type": "markdown",
   "metadata": {},
   "source": [
    "## Create a Directory for Data"
   ]
  },
  {
   "cell_type": "code",
   "execution_count": null,
   "metadata": {
    "collapsed": false
   },
   "outputs": [],
   "source": [
    "mkdir data"
   ]
  },
  {
   "cell_type": "markdown",
   "metadata": {},
   "source": [
    "## Copy Data File into Data Directory"
   ]
  },
  {
   "cell_type": "code",
   "execution_count": null,
   "metadata": {
    "collapsed": false
   },
   "outputs": [],
   "source": [
    "cp  /home/user1/opendata/data/Dimuons.root data/"
   ]
  },
  {
   "cell_type": "markdown",
   "metadata": {},
   "source": [
    "### Docker\n",
    "\n",
    "<img src=\"https://www.docker.com/sites/all/themes/docker/assets/images/Logo-Docker.svg\"/>\n",
    "\n",
    "Docker allows you to package an application with everything it needs to run so that it will always run the same regardless of environment https://www.docker.com/what-docker\n",
    "\n",
    "Download the pre-configure dockerfile  to install ROOT in the virtual machine <br>"
   ]
  },
  {
   "cell_type": "markdown",
   "metadata": {},
   "source": [
    "## Copy a Dockerfile for Our Application"
   ]
  },
  {
   "cell_type": "code",
   "execution_count": null,
   "metadata": {
    "collapsed": false
   },
   "outputs": [],
   "source": [
    "cp /home/user1/sharing/Dockerfile ."
   ]
  },
  {
   "cell_type": "markdown",
   "metadata": {},
   "source": [
    "## Add New Notebook(s) to git Workspace"
   ]
  },
  {
   "cell_type": "code",
   "execution_count": null,
   "metadata": {
    "collapsed": false
   },
   "outputs": [],
   "source": [
    "git add *"
   ]
  },
  {
   "cell_type": "markdown",
   "metadata": {},
   "source": [
    "## Commit Changes"
   ]
  },
  {
   "cell_type": "code",
   "execution_count": null,
   "metadata": {
    "collapsed": false
   },
   "outputs": [],
   "source": [
    "git config --global user.name \"Sergei Gleyzer\"\n",
    "git config --global user.email \"Sergei.Gleyzer@cern.ch\""
   ]
  },
  {
   "cell_type": "markdown",
   "metadata": {},
   "source": [
    "-a all changes <br>\n",
    "-m message <br>"
   ]
  },
  {
   "cell_type": "code",
   "execution_count": null,
   "metadata": {
    "collapsed": false
   },
   "outputs": [],
   "source": [
    "git commit -a -m\"My first commit\""
   ]
  },
  {
   "cell_type": "markdown",
   "metadata": {},
   "source": [
    "## Upload Your Notebook to Github\n",
    "\n",
    "Now open a new terminal and execute a command:\n",
    "\n",
    "```bash\n",
    "cd sharing/hello-world\n",
    "git push origin master\n",
    "```\n",
    "You can check your files in http://github.com/username/repo-name\n",
    "\n",
    "\n",
    "## Executing Notebooks with Binder\n",
    "<img src=\"http://mybinder.org/images/logo.svg\"/>\n",
    "Binder is web-based platform that allows execution of Jupyter Notebooks online\n",
    "Please go to http://mybinder.org/\n",
    "\n",
    "* Provide your github repository.\n",
    "* Select a Dockerfile\n",
    "* Click make my binder.\n",
    "\n",
    "It can take a little while to complete, you can enjoy a coffee break while your binder is deployed."
   ]
  },
  {
   "cell_type": "code",
   "execution_count": null,
   "metadata": {
    "collapsed": true
   },
   "outputs": [],
   "source": []
  }
 ],
 "metadata": {
  "kernelspec": {
   "display_name": "Bash",
   "language": "bash",
   "name": "bash"
  },
  "language_info": {
   "codemirror_mode": "shell",
   "file_extension": ".sh",
   "mimetype": "text/x-sh",
   "name": "bash"
  }
 },
 "nbformat": 4,
 "nbformat_minor": 0
}
