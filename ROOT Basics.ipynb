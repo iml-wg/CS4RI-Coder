{
 "cells": [
  {
   "cell_type": "markdown",
   "metadata": {},
   "source": [
    "<img src=\"https://avatars1.githubusercontent.com/u/30229024?s=200&v=4\">\n",
    "\n",
    "# ROOT Basics\n",
    "## Import Required Modules and Turn on Javascript"
   ]
  },
  {
   "cell_type": "code",
   "execution_count": null,
   "metadata": {},
   "outputs": [],
   "source": [
    "from ROOT import TFile, TCanvas, TH1F\n",
    "\n",
    "%jsroot on"
   ]
  },
  {
   "cell_type": "markdown",
   "metadata": {},
   "source": [
    "## Open a Data File"
   ]
  },
  {
   "cell_type": "code",
   "execution_count": null,
   "metadata": {},
   "outputs": [],
   "source": [
    "file = TFile(\"opendata/data/Dimuons.root\",\"READ\")"
   ]
  },
  {
   "cell_type": "markdown",
   "metadata": {},
   "source": [
    "## Declare a Histogram\n",
    "### Histogram is a Graphical Way to Visualize Data\n",
    "<img src=\"https://s3.amazonaws.com/engrade-myfiles/4012104668779794/iw_histogram.gif\"></img>\n",
    "#### Divide Data into Equal Intervals (Bins) and Count How Many Values in Each Bin\n",
    "\n"
   ]
  },
  {
   "cell_type": "markdown",
   "metadata": {},
   "source": [
    "## Example Histogram of Distribution of Muon Charges"
   ]
  },
  {
   "cell_type": "code",
   "execution_count": null,
   "metadata": {},
   "outputs": [],
   "source": [
    "histogram = TH1F(\"Muon1_Charge\",\"Muon1_Charge\", 50, -2, 2)"
   ]
  },
  {
   "cell_type": "markdown",
   "metadata": {},
   "source": [
    "### declaration format: TH1F(name, title, number of bins, min value, max value)\n",
    "## ROOT Exercise 1: \n",
    "## Declare another histogram for x-component of muon momentum called Muon1_Px\n"
   ]
  },
  {
   "cell_type": "code",
   "execution_count": null,
   "metadata": {},
   "outputs": [],
   "source": [
    "histogram2 = TH1F(\"Muon1_Px\", \"Muon1_Px\", 100, -50, 50)"
   ]
  },
  {
   "cell_type": "markdown",
   "metadata": {},
   "source": [
    "## Loop Over Events in Data File"
   ]
  },
  {
   "cell_type": "markdown",
   "metadata": {},
   "source": [
    "Fill the histogram with muon charge values (+1 or -1)"
   ]
  },
  {
   "cell_type": "code",
   "execution_count": null,
   "metadata": {},
   "outputs": [],
   "source": [
    "for dimuon in file.Dimuons:\n",
    "    \n",
    "    histogram.Fill(dimuon.Muon1_Charge)       "
   ]
  },
  {
   "cell_type": "markdown",
   "metadata": {},
   "source": [
    "## Draw a Histogram on a Canvas"
   ]
  },
  {
   "cell_type": "code",
   "execution_count": null,
   "metadata": {},
   "outputs": [],
   "source": [
    "Canvas = TCanvas()\n",
    "\n",
    "histogram.Draw()\n",
    "\n",
    "Canvas.Draw()"
   ]
  },
  {
   "cell_type": "markdown",
   "metadata": {
    "collapsed": true
   },
   "source": [
    "## ROOT Exercise #2: \n",
    "### Plot another histogram  (for example Muon1_Px)\n",
    "Note: Same canvas can be used after clearing it with Canvas.Clear() "
   ]
  },
  {
   "cell_type": "code",
   "execution_count": null,
   "metadata": {},
   "outputs": [],
   "source": [
    "Canvas.Clear()\n",
    "\n"
   ]
  },
  {
   "cell_type": "code",
   "execution_count": null,
   "metadata": {},
   "outputs": [],
   "source": []
  }
 ],
 "metadata": {
  "kernelspec": {
   "display_name": "Python 3",
   "language": "python",
   "name": "python3"
  },
  "language_info": {
   "codemirror_mode": {
    "name": "ipython",
    "version": 3
   },
   "file_extension": ".py",
   "mimetype": "text/x-python",
   "name": "python",
   "nbconvert_exporter": "python",
   "pygments_lexer": "ipython3",
   "version": "3.6.5"
  }
 },
 "nbformat": 4,
 "nbformat_minor": 1
}
